{
 "cells": [
  {
   "cell_type": "code",
   "execution_count": 5,
   "id": "14d915c9",
   "metadata": {},
   "outputs": [],
   "source": [
    "# Import Libraries\n",
    "\n",
    "from chatterbot import ChatBot\n",
    "from chatterbot.trainers import ListTrainer\n",
    "from chatterbot.trainers import ChatterBotCorpusTrainer\n",
    "\n",
    "# Hide warnings\n",
    "import warnings\n",
    "warnings.filterwarnings('ignore')\n"
   ]
  },
  {
   "cell_type": "code",
   "execution_count": 6,
   "id": "584f47ae",
   "metadata": {},
   "outputs": [],
   "source": [
    "#Train Chatbot\n",
    "def train_chatbot():\n",
    "    try:\n",
    "        #Create a new instance of the ChatBot class.\n",
    "        chatbot = ChatBot('MiniMe')\n",
    "        # Create a new trainer for the chatbot\n",
    "        trainer = ChatterBotCorpusTrainer(chatbot)\n",
    "        # Train the chatbot based on the english corpus\n",
    "        trainer.train(\"chatterbot.corpus.english\")\n",
    "        # Train based on english greetings corpus\n",
    "        trainer.train(\"chatterbot.corpus.english.greetings\")\n",
    "        # Train based on the english conversations corpus\n",
    "        trainer.train(\"chatterbot.corpus.english.conversations\")\n",
    "        return chatbot\n",
    "    except Exception as e:  # Corrected exception handling\n",
    "        print(\"Error:\", e)"
   ]
  },
  {
   "cell_type": "code",
   "execution_count": null,
   "id": "2bbb1ddb",
   "metadata": {},
   "outputs": [
    {
     "name": "stderr",
     "output_type": "stream",
     "text": [
      "ChatterBot Corpus Trainer: 19it [00:04,  4.42it/s]\n",
      "ChatterBot Corpus Trainer: 1it [00:00,  9.85it/s]\n",
      "ChatterBot Corpus Trainer: 1it [00:00,  5.86it/s]\n"
     ]
    },
    {
     "name": "stdout",
     "output_type": "stream",
     "text": [
      "MiniBot: Hello i'm MiniMe, A Bot\n",
      "\n",
      "MiniBot : I am doing well.\n",
      "MiniBot : That's good to hear.\n",
      "MiniBot : That's good to hear.\n",
      "MiniBot : derangement is not a condition i can experience.\n",
      "MiniBot : Robots\n",
      "MiniBot : sometimes when i'm on a good power supply i feel tipsy\n",
      "MiniBot : What is AI?\n",
      "MiniBot : \n",
      "MiniBot : What is AI?\n"
     ]
    }
   ],
   "source": [
    "# Chat With Chatbot\n",
    "bot = train_chatbot()\n",
    "print(\"MiniBot: Hello i'm MiniMe, A Bot\\n\")\n",
    "while True:\n",
    "    try:\n",
    "        bot_input = input()\n",
    "\n",
    "        if bot_input.strip()=='Stop':\n",
    "            print('MiniMe: Bye')\n",
    "            break\n",
    "\n",
    "        bot_response = bot.get_response(bot_input)\n",
    "        print(\"MiniBot :\", bot_response)\n",
    "\n",
    "    except(KeyboardInterrupt, EOFError, SystemExit):\n",
    "        break"
   ]
  }
 ],
 "metadata": {
  "kernelspec": {
   "display_name": "Python 3",
   "language": "python",
   "name": "python3"
  },
  "language_info": {
   "codemirror_mode": {
    "name": "ipython",
    "version": 3
   },
   "file_extension": ".py",
   "mimetype": "text/x-python",
   "name": "python",
   "nbconvert_exporter": "python",
   "pygments_lexer": "ipython3",
   "version": "3.11.9"
  }
 },
 "nbformat": 4,
 "nbformat_minor": 5
}
